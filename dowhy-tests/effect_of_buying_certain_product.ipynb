{
 "cells": [
  {
   "cell_type": "code",
   "execution_count": 1,
   "metadata": {},
   "outputs": [
    {
     "name": "stdout",
     "output_type": "stream",
     "text": [
      "Requirement already satisfied: dowhy in /Library/Frameworks/Python.framework/Versions/3.8/lib/python3.8/site-packages (0.6)\n",
      "Requirement already satisfied: numpy>=1.15 in /Library/Frameworks/Python.framework/Versions/3.8/lib/python3.8/site-packages (from dowhy) (1.21.2)\n",
      "Requirement already satisfied: scikit-learn in /Library/Frameworks/Python.framework/Versions/3.8/lib/python3.8/site-packages (from dowhy) (1.0)\n",
      "Requirement already satisfied: scipy in /Library/Frameworks/Python.framework/Versions/3.8/lib/python3.8/site-packages (from dowhy) (1.7.1)\n",
      "Requirement already satisfied: networkx>=2.0 in /Library/Frameworks/Python.framework/Versions/3.8/lib/python3.8/site-packages (from dowhy) (2.6.3)\n",
      "Requirement already satisfied: pydot>=1.4 in /Library/Frameworks/Python.framework/Versions/3.8/lib/python3.8/site-packages (from dowhy) (1.4.2)\n",
      "Requirement already satisfied: statsmodels in /Library/Frameworks/Python.framework/Versions/3.8/lib/python3.8/site-packages (from dowhy) (0.13.0)\n",
      "Requirement already satisfied: sympy>=1.4 in /Library/Frameworks/Python.framework/Versions/3.8/lib/python3.8/site-packages (from dowhy) (1.8)\n",
      "Requirement already satisfied: pandas>=0.24 in /Library/Frameworks/Python.framework/Versions/3.8/lib/python3.8/site-packages (from dowhy) (1.3.3)\n",
      "Requirement already satisfied: python-dateutil>=2.7.3 in /Library/Frameworks/Python.framework/Versions/3.8/lib/python3.8/site-packages (from pandas>=0.24->dowhy) (2.8.2)\n",
      "Requirement already satisfied: pytz>=2017.3 in /Library/Frameworks/Python.framework/Versions/3.8/lib/python3.8/site-packages (from pandas>=0.24->dowhy) (2021.3)\n",
      "Requirement already satisfied: pyparsing>=2.1.4 in /Library/Frameworks/Python.framework/Versions/3.8/lib/python3.8/site-packages (from pydot>=1.4->dowhy) (2.4.7)\n",
      "Requirement already satisfied: six>=1.5 in /Library/Frameworks/Python.framework/Versions/3.8/lib/python3.8/site-packages (from python-dateutil>=2.7.3->pandas>=0.24->dowhy) (1.16.0)\n",
      "Requirement already satisfied: mpmath>=0.19 in /Library/Frameworks/Python.framework/Versions/3.8/lib/python3.8/site-packages (from sympy>=1.4->dowhy) (1.2.1)\n",
      "Requirement already satisfied: joblib>=0.11 in /Library/Frameworks/Python.framework/Versions/3.8/lib/python3.8/site-packages (from scikit-learn->dowhy) (1.0.1)\n",
      "Requirement already satisfied: threadpoolctl>=2.0.0 in /Library/Frameworks/Python.framework/Versions/3.8/lib/python3.8/site-packages (from scikit-learn->dowhy) (3.0.0)\n",
      "Requirement already satisfied: patsy>=0.5.2 in /Library/Frameworks/Python.framework/Versions/3.8/lib/python3.8/site-packages (from statsmodels->dowhy) (0.5.2)\n"
     ]
    }
   ],
   "source": [
    "! pip3 install dowhy"
   ]
  },
  {
   "cell_type": "code",
   "execution_count": 4,
   "metadata": {},
   "outputs": [
    {
     "data": {
      "image/png": "[encoded data removed]",
      "text/plain": [
       "<Figure size 432x288 with 1 Axes>"
      ]
     },
     "metadata": {
      "needs_background": "light"
     },
     "output_type": "display_data"
    }
   ],
   "source": [
    "import pandas as pd\n",
    "\n",
    "#merged = pd.read_csv('../data/merged_transaction_merchandise_09_01_on_variant_id')\n",
    "merged = pd.read_csv('../data/uniqlo_prod_loy.csv')\n",
    "\n",
    "\n",
    "from collections import Counter\n",
    "import matplotlib.pyplot as plt\n",
    "\n",
    "c = Counter(merged[\"order_date\"])\n",
    "plt.plot(c.keys(),c.values())\n",
    "plt.show()"
   ]
  },
  {
   "cell_type": "markdown",
   "metadata": {},
   "source": [
    "# Estimating the effect of a buying a certain product\n",
    "\n",
    "> What is the impact on a client habits of buying a certain product ?\n",
    "\n",
    "In formal language, we are interested in the Average Treatment Effect on the Treated (ATT). "
   ]
  },
  {
   "cell_type": "markdown",
   "metadata": {},
   "source": [
    "We chose the variant 435193 as test product because its buy a lot."
   ]
  },
  {
   "cell_type": "code",
   "execution_count": 6,
   "metadata": {},
   "outputs": [
    {
     "name": "stdout",
     "output_type": "stream",
     "text": [
      "Counter({False: 774316, True: 36827})\n"
     ]
    }
   ],
   "source": [
    "from datetime import datetime\n",
    "tmp = merged[[\"customer_id\",\"variant_id\",\"order_date\"]].copy()\n",
    "tmp[\"order_date\"] = [datetime.strptime(x,\"%Y-%m-%d\") for x in tmp[\"order_date\"]]\n",
    "variant = 435806\n",
    "variant = 435193\n",
    "all_cus = {c : d for v,c,d in zip(tmp[\"variant_id\"],tmp[\"customer_id\"],tmp[\"order_date\"]) if v == variant}\n",
    "count_cus = Counter(tmp[\"customer_id\"])\n",
    "\n",
    "tmp[\"treatment\"] = [x in all_cus.keys() for x in tmp[\"customer_id\"]]\n",
    "tmp[\"buying_date\"] = [all_cus.get(x,None) for x in tmp[\"customer_id\"]]\n",
    "tmp[\"count_customer\"] = [count_cus.get(x,0) for x in tmp[\"customer_id\"]]\n",
    "#tmp = tmp[tmp[\"count_customer\"]>10]\n",
    "print(Counter(tmp[\"treatment\"]))"
   ]
  },
  {
   "cell_type": "code",
   "execution_count": 7,
   "metadata": {},
   "outputs": [
    {
     "data": {
      "text/html": [
       "<div>\n",
       "<style scoped>\n",
       "    .dataframe tbody tr th:only-of-type {\n",
       "        vertical-align: middle;\n",
       "    }\n",
       "\n",
       "    .dataframe tbody tr th {\n",
       "        vertical-align: top;\n",
       "    }\n",
       "\n",
       "    .dataframe thead th {\n",
       "        text-align: right;\n",
       "    }\n",
       "</style>\n",
       "<table border=\"1\" class=\"dataframe\">\n",
       "  <thead>\n",
       "    <tr style=\"text-align: right;\">\n",
       "      <th></th>\n",
       "      <th>customer_id</th>\n",
       "      <th>variant_id</th>\n",
       "      <th>order_date</th>\n",
       "      <th>treatment</th>\n",
       "      <th>buying_date</th>\n",
       "      <th>count_customer</th>\n",
       "      <th>first_purchase</th>\n",
       "      <th>last_purchase</th>\n",
       "      <th>mean_purchase</th>\n",
       "    </tr>\n",
       "  </thead>\n",
       "  <tbody>\n",
       "    <tr>\n",
       "      <th>0</th>\n",
       "      <td>US621111116245019</td>\n",
       "      <td>435193</td>\n",
       "      <td>2021-09-20</td>\n",
       "      <td>True</td>\n",
       "      <td>2021-09-20</td>\n",
       "      <td>3</td>\n",
       "      <td>2021-08-18</td>\n",
       "      <td>2021-09-20</td>\n",
       "      <td>2021-09-09</td>\n",
       "    </tr>\n",
       "    <tr>\n",
       "      <th>1</th>\n",
       "      <td>US051401091310415435</td>\n",
       "      <td>435193</td>\n",
       "      <td>2021-09-20</td>\n",
       "      <td>True</td>\n",
       "      <td>2021-05-29</td>\n",
       "      <td>25</td>\n",
       "      <td>2021-05-07</td>\n",
       "      <td>2021-09-20</td>\n",
       "      <td>2021-05-30</td>\n",
       "    </tr>\n",
       "    <tr>\n",
       "      <th>2</th>\n",
       "      <td>US621111115993715</td>\n",
       "      <td>435193</td>\n",
       "      <td>2021-09-20</td>\n",
       "      <td>True</td>\n",
       "      <td>2021-04-20</td>\n",
       "      <td>4</td>\n",
       "      <td>2021-04-20</td>\n",
       "      <td>2021-09-20</td>\n",
       "      <td>2021-05-28</td>\n",
       "    </tr>\n",
       "    <tr>\n",
       "      <th>3</th>\n",
       "      <td>US621111114664880</td>\n",
       "      <td>435193</td>\n",
       "      <td>2021-09-20</td>\n",
       "      <td>True</td>\n",
       "      <td>2021-09-20</td>\n",
       "      <td>1</td>\n",
       "      <td>2021-09-20</td>\n",
       "      <td>2021-09-20</td>\n",
       "      <td>2021-09-20</td>\n",
       "    </tr>\n",
       "    <tr>\n",
       "      <th>4</th>\n",
       "      <td>US621111114200736</td>\n",
       "      <td>435193</td>\n",
       "      <td>2021-09-20</td>\n",
       "      <td>True</td>\n",
       "      <td>2021-09-20</td>\n",
       "      <td>2</td>\n",
       "      <td>2021-09-20</td>\n",
       "      <td>2021-09-20</td>\n",
       "      <td>2021-09-20</td>\n",
       "    </tr>\n",
       "    <tr>\n",
       "      <th>...</th>\n",
       "      <td>...</td>\n",
       "      <td>...</td>\n",
       "      <td>...</td>\n",
       "      <td>...</td>\n",
       "      <td>...</td>\n",
       "      <td>...</td>\n",
       "      <td>...</td>\n",
       "      <td>...</td>\n",
       "      <td>...</td>\n",
       "    </tr>\n",
       "    <tr>\n",
       "      <th>811138</th>\n",
       "      <td>US621111111895463</td>\n",
       "      <td>435259</td>\n",
       "      <td>2021-03-28</td>\n",
       "      <td>False</td>\n",
       "      <td>2021-05-03</td>\n",
       "      <td>16</td>\n",
       "      <td>2021-03-28</td>\n",
       "      <td>2021-07-22</td>\n",
       "      <td>2021-05-03</td>\n",
       "    </tr>\n",
       "    <tr>\n",
       "      <th>811139</th>\n",
       "      <td>US051412091518083394</td>\n",
       "      <td>430930</td>\n",
       "      <td>2021-03-29</td>\n",
       "      <td>False</td>\n",
       "      <td>2021-03-29</td>\n",
       "      <td>4</td>\n",
       "      <td>2021-03-29</td>\n",
       "      <td>2021-03-29</td>\n",
       "      <td>2021-03-29</td>\n",
       "    </tr>\n",
       "    <tr>\n",
       "      <th>811140</th>\n",
       "      <td>US621111114896775</td>\n",
       "      <td>430930</td>\n",
       "      <td>2021-03-28</td>\n",
       "      <td>False</td>\n",
       "      <td>2021-04-29</td>\n",
       "      <td>17</td>\n",
       "      <td>2021-03-28</td>\n",
       "      <td>2021-06-01</td>\n",
       "      <td>2021-04-29</td>\n",
       "    </tr>\n",
       "    <tr>\n",
       "      <th>811141</th>\n",
       "      <td>US051512120537528432</td>\n",
       "      <td>431111</td>\n",
       "      <td>2021-03-29</td>\n",
       "      <td>False</td>\n",
       "      <td>2021-03-29</td>\n",
       "      <td>5</td>\n",
       "      <td>2021-03-29</td>\n",
       "      <td>2021-03-29</td>\n",
       "      <td>2021-03-29</td>\n",
       "    </tr>\n",
       "    <tr>\n",
       "      <th>811142</th>\n",
       "      <td>US051501090600105302</td>\n",
       "      <td>426047</td>\n",
       "      <td>2021-03-28</td>\n",
       "      <td>False</td>\n",
       "      <td>2021-03-28</td>\n",
       "      <td>5</td>\n",
       "      <td>2021-03-28</td>\n",
       "      <td>2021-03-28</td>\n",
       "      <td>2021-03-28</td>\n",
       "    </tr>\n",
       "  </tbody>\n",
       "</table>\n",
       "<p>811143 rows × 9 columns</p>\n",
       "</div>"
      ],
      "text/plain": [
       "                 customer_id  variant_id order_date  treatment buying_date  \\\n",
       "0          US621111116245019      435193 2021-09-20       True  2021-09-20   \n",
       "1       US051401091310415435      435193 2021-09-20       True  2021-05-29   \n",
       "2          US621111115993715      435193 2021-09-20       True  2021-04-20   \n",
       "3          US621111114664880      435193 2021-09-20       True  2021-09-20   \n",
       "4          US621111114200736      435193 2021-09-20       True  2021-09-20   \n",
       "...                      ...         ...        ...        ...         ...   \n",
       "811138     US621111111895463      435259 2021-03-28      False  2021-05-03   \n",
       "811139  US051412091518083394      430930 2021-03-29      False  2021-03-29   \n",
       "811140     US621111114896775      430930 2021-03-28      False  2021-04-29   \n",
       "811141  US051512120537528432      431111 2021-03-29      False  2021-03-29   \n",
       "811142  US051501090600105302      426047 2021-03-28      False  2021-03-28   \n",
       "\n",
       "        count_customer first_purchase last_purchase mean_purchase  \n",
       "0                    3     2021-08-18    2021-09-20    2021-09-09  \n",
       "1                   25     2021-05-07    2021-09-20    2021-05-30  \n",
       "2                    4     2021-04-20    2021-09-20    2021-05-28  \n",
       "3                    1     2021-09-20    2021-09-20    2021-09-20  \n",
       "4                    2     2021-09-20    2021-09-20    2021-09-20  \n",
       "...                ...            ...           ...           ...  \n",
       "811138              16     2021-03-28    2021-07-22    2021-05-03  \n",
       "811139               4     2021-03-29    2021-03-29    2021-03-29  \n",
       "811140              17     2021-03-28    2021-06-01    2021-04-29  \n",
       "811141               5     2021-03-29    2021-03-29    2021-03-29  \n",
       "811142               5     2021-03-28    2021-03-28    2021-03-28  \n",
       "\n",
       "[811143 rows x 9 columns]"
      ]
     },
     "execution_count": 7,
     "metadata": {},
     "output_type": "execute_result"
    }
   ],
   "source": [
    "mean_purchase = tmp.groupby(\"customer_id\")[\"order_date\"].mean()\n",
    "first_purchase = tmp.groupby(\"customer_id\")[\"order_date\"].min()\n",
    "last_purchase = tmp.groupby(\"customer_id\")[\"order_date\"].max()\n",
    "tmp[\"first_purchase\"] = [first_purchase[x] for x in tmp[\"customer_id\"]]\n",
    "tmp[\"last_purchase\"] = [last_purchase[x] for x in tmp[\"customer_id\"]]\n",
    "tmp[\"buying_date\"] = [all_cus.get(x,None) if x in all_cus.keys() else mean_purchase[x].date() for x in tmp[\"customer_id\"]]\n",
    "tmp[\"mean_purchase\"] = [mean_purchase[x].date() for x in tmp[\"customer_id\"]]\n",
    "tmp"
   ]
  },
  {
   "cell_type": "code",
   "execution_count": 8,
   "metadata": {},
   "outputs": [],
   "source": [
    "cc = {}\n",
    "for i, e in tmp.iterrows():\n",
    "    b, a = cc.get(e['customer_id'],(0,0))\n",
    "    if e['order_date'] < e['buying_date']:\n",
    "        nb_days = (e['buying_date']-e['first_purchase']).days\n",
    "        if nb_days != 0:\n",
    "            b+=1/nb_days\n",
    "    else :\n",
    "        nb_days = (e['last_purchase']-e['buying_date']).days\n",
    "        if nb_days != 0:\n",
    "            a+=1/nb_days\n",
    "    cc[e['customer_id']] = (b,a)\n",
    "\n",
    "tmp[\"before_purchase\"] = [cc.get(x,(0,0))[0] for x in tmp[\"customer_id\"]]\n",
    "tmp[\"after_purchase\"] = [cc.get(x,(0,1))[1] for x in tmp[\"customer_id\"]]\n",
    "\n",
    "tmp = tmp[ tmp[\"before_purchase\"] > 0]\n",
    "tmp = tmp[ tmp[\"after_purchase\"] > 0]\n"
   ]
  },
  {
   "cell_type": "markdown",
   "metadata": {},
   "source": [
    "We remove the customers who buy the product in the first or the last time of they purchase (We cannot get a difference of before and after else)"
   ]
  },
  {
   "cell_type": "markdown",
   "metadata": {},
   "source": [
    "##  I. Formulating the causal model"
   ]
  },
  {
   "cell_type": "markdown",
   "metadata": {},
   "source": [
    "### The importance of time\n",
    "\n",
    "We count the number of purchase per days for a customer before it buy the product and after. For the customer which didn't buy this product, we separate its purchase in two parts equals."
   ]
  },
  {
   "cell_type": "code",
   "execution_count": 14,
   "metadata": {
    "scrolled": true
   },
   "outputs": [
    {
     "data": {
      "text/html": [
       "<div>\n",
       "<style scoped>\n",
       "    .dataframe tbody tr th:only-of-type {\n",
       "        vertical-align: middle;\n",
       "    }\n",
       "\n",
       "    .dataframe tbody tr th {\n",
       "        vertical-align: top;\n",
       "    }\n",
       "\n",
       "    .dataframe thead th {\n",
       "        text-align: right;\n",
       "    }\n",
       "</style>\n",
       "<table border=\"1\" class=\"dataframe\">\n",
       "  <thead>\n",
       "    <tr style=\"text-align: right;\">\n",
       "      <th></th>\n",
       "      <th>customer_id</th>\n",
       "      <th>buying_date</th>\n",
       "      <th>treatment</th>\n",
       "      <th>before_purchase</th>\n",
       "      <th>after_purchase</th>\n",
       "    </tr>\n",
       "  </thead>\n",
       "  <tbody>\n",
       "    <tr>\n",
       "      <th>1</th>\n",
       "      <td>US051401091310415435</td>\n",
       "      <td>20210529</td>\n",
       "      <td>True</td>\n",
       "      <td>0.181818</td>\n",
       "      <td>0.184211</td>\n",
       "    </tr>\n",
       "    <tr>\n",
       "      <th>11</th>\n",
       "      <td>US621111111409198</td>\n",
       "      <td>20210715</td>\n",
       "      <td>True</td>\n",
       "      <td>0.015152</td>\n",
       "      <td>0.029851</td>\n",
       "    </tr>\n",
       "    <tr>\n",
       "      <th>28</th>\n",
       "      <td>US621111112347935</td>\n",
       "      <td>20210422</td>\n",
       "      <td>True</td>\n",
       "      <td>0.142857</td>\n",
       "      <td>0.139073</td>\n",
       "    </tr>\n",
       "    <tr>\n",
       "      <th>60</th>\n",
       "      <td>US621111111553887</td>\n",
       "      <td>20210829</td>\n",
       "      <td>True</td>\n",
       "      <td>0.010000</td>\n",
       "      <td>0.200000</td>\n",
       "    </tr>\n",
       "    <tr>\n",
       "      <th>190</th>\n",
       "      <td>US621111115042615</td>\n",
       "      <td>20210510</td>\n",
       "      <td>True</td>\n",
       "      <td>0.050000</td>\n",
       "      <td>0.065574</td>\n",
       "    </tr>\n",
       "    <tr>\n",
       "      <th>...</th>\n",
       "      <td>...</td>\n",
       "      <td>...</td>\n",
       "      <td>...</td>\n",
       "      <td>...</td>\n",
       "      <td>...</td>\n",
       "    </tr>\n",
       "    <tr>\n",
       "      <th>811133</th>\n",
       "      <td>US051512120619464135</td>\n",
       "      <td>0</td>\n",
       "      <td>False</td>\n",
       "      <td>0.274510</td>\n",
       "      <td>0.105263</td>\n",
       "    </tr>\n",
       "    <tr>\n",
       "      <th>811134</th>\n",
       "      <td>US051212190011461900</td>\n",
       "      <td>0</td>\n",
       "      <td>False</td>\n",
       "      <td>1.000000</td>\n",
       "      <td>0.111111</td>\n",
       "    </tr>\n",
       "    <tr>\n",
       "      <th>811136</th>\n",
       "      <td>US051308181136547205</td>\n",
       "      <td>0</td>\n",
       "      <td>False</td>\n",
       "      <td>0.265625</td>\n",
       "      <td>0.112676</td>\n",
       "    </tr>\n",
       "    <tr>\n",
       "      <th>811138</th>\n",
       "      <td>US621111111895463</td>\n",
       "      <td>0</td>\n",
       "      <td>False</td>\n",
       "      <td>0.222222</td>\n",
       "      <td>0.100000</td>\n",
       "    </tr>\n",
       "    <tr>\n",
       "      <th>811140</th>\n",
       "      <td>US621111114896775</td>\n",
       "      <td>0</td>\n",
       "      <td>False</td>\n",
       "      <td>0.218750</td>\n",
       "      <td>0.303030</td>\n",
       "    </tr>\n",
       "  </tbody>\n",
       "</table>\n",
       "<p>246310 rows × 5 columns</p>\n",
       "</div>"
      ],
      "text/plain": [
       "                 customer_id  buying_date  treatment  before_purchase  \\\n",
       "1       US051401091310415435     20210529       True         0.181818   \n",
       "11         US621111111409198     20210715       True         0.015152   \n",
       "28         US621111112347935     20210422       True         0.142857   \n",
       "60         US621111111553887     20210829       True         0.010000   \n",
       "190        US621111115042615     20210510       True         0.050000   \n",
       "...                      ...          ...        ...              ...   \n",
       "811133  US051512120619464135            0      False         0.274510   \n",
       "811134  US051212190011461900            0      False         1.000000   \n",
       "811136  US051308181136547205            0      False         0.265625   \n",
       "811138     US621111111895463            0      False         0.222222   \n",
       "811140     US621111114896775            0      False         0.218750   \n",
       "\n",
       "        after_purchase  \n",
       "1             0.184211  \n",
       "11            0.029851  \n",
       "28            0.139073  \n",
       "60            0.200000  \n",
       "190           0.065574  \n",
       "...                ...  \n",
       "811133        0.105263  \n",
       "811134        0.111111  \n",
       "811136        0.112676  \n",
       "811138        0.100000  \n",
       "811140        0.303030  \n",
       "\n",
       "[246310 rows x 5 columns]"
      ]
     },
     "execution_count": 14,
     "metadata": {},
     "output_type": "execute_result"
    },
    {
     "data": {
      "image/png": "[encoded data removed]",
      "text/plain": [
       "<Figure size 432x288 with 1 Axes>"
      ]
     },
     "metadata": {},
     "output_type": "display_data"
    }
   ],
   "source": [
    "import dowhy\n",
    "causal_graph = \"\"\"digraph {\n",
    "treatment[label=\"Program Signup in month i\"];\n",
    "before_purchase;\n",
    "after_purchase;\n",
    "Z->treatment;\n",
    "U[label=\"Unobserved Confounders\"]; \n",
    "before_purchase -> treatment;\n",
    "treatment->after_purchase;\n",
    "buying_date->after_purchase; signup_month->before_purchase;\n",
    "buying_date->treatment;\n",
    "U->treatment; U->before_purchase; U->after_purchase;\n",
    "}\"\"\"\n",
    "\n",
    "# Post-process the data based on the graph and the month of the treatment (signup)\n",
    "# For each customer, determine their average monthly spend before and after month i\n",
    "\n",
    "def date_to_int(d):\n",
    "    return 10000*d.year + 100*d.month + d.day\n",
    "df = tmp[[\"customer_id\", \"buying_date\", \"treatment\", \"before_purchase\", \"after_purchase\"]].copy()\n",
    "\n",
    "df[\"buying_date\"] = [date_to_int(d) if t else 0 for d,t in zip(df[\"buying_date\"],df[\"treatment\"])]\n",
    "\n",
    "model = dowhy.CausalModel(data=df,\n",
    "                     graph=causal_graph.replace(\"\\n\", \" \"),\n",
    "                     treatment=\"treatment\",\n",
    "                     outcome=\"after_purchase\")\n",
    "model.view_model()\n",
    "from IPython.display import Image, display\n",
    "df"
   ]
  },
  {
   "cell_type": "markdown",
   "metadata": {},
   "source": [
    "More generally, we can include any activity data for the customer in the above graph. All prior- and post-activity data will occupy the same place (and have the same edges) as the Amount spent node (prior and post respectively). "
   ]
  },
  {
   "cell_type": "markdown",
   "metadata": {},
   "source": [
    "## II. Identifying the causal effect\n",
    "For the sake of this example, let us assume that unobserved confounding does not play a big part. "
   ]
  },
  {
   "cell_type": "code",
   "execution_count": 15,
   "metadata": {
    "scrolled": true
   },
   "outputs": [
    {
     "name": "stdout",
     "output_type": "stream",
     "text": [
      "Estimand type: nonparametric-ate\n",
      "\n",
      "### Estimand : 1\n",
      "Estimand name: backdoor\n",
      "Estimand expression:\n",
      "     d                                                               \n",
      "────────────(Expectation(after_purchase|buying_date,before_purchase))\n",
      "d[treatment]                                                         \n",
      "Estimand assumption 1, Unconfoundedness: If U→{treatment} and U→after_purchase then P(after_purchase|treatment,buying_date,before_purchase,U) = P(after_purchase|treatment,buying_date,before_purchase)\n",
      "\n",
      "### Estimand : 2\n",
      "Estimand name: iv\n",
      "Estimand expression:\n",
      "Expectation(Derivative(after_purchase, [Z])*Derivative([treatment], [Z])**(-1))\n",
      "Estimand assumption 1, As-if-random: If U→→after_purchase then ¬(U →→{Z})\n",
      "Estimand assumption 2, Exclusion: If we remove {Z}→{treatment}, then ¬({Z}→after_purchase)\n",
      "\n",
      "### Estimand : 3\n",
      "Estimand name: frontdoor\n",
      "No such variable found!\n",
      "\n"
     ]
    }
   ],
   "source": [
    "identified_estimand = model.identify_effect(proceed_when_unidentifiable=True)\n",
    "print(identified_estimand)"
   ]
  },
  {
   "cell_type": "markdown",
   "metadata": {},
   "source": [
    "Based on the graph, DoWhy determines that the signup month and amount spent in the pre-treatment months (`buying date`, `before_purchase`) needs to be conditioned on."
   ]
  },
  {
   "cell_type": "markdown",
   "metadata": {},
   "source": [
    "## III. Estimating the effect\n",
    "We now estimate the effect based on the backdoor estimand, setting the target units to \"att\"."
   ]
  },
  {
   "cell_type": "code",
   "execution_count": 16,
   "metadata": {
    "scrolled": true
   },
   "outputs": [
    {
     "name": "stderr",
     "output_type": "stream",
     "text": [
      "/Library/Frameworks/Python.framework/Versions/3.8/lib/python3.8/site-packages/sklearn/utils/validation.py:985: DataConversionWarning: A column-vector y was passed when a 1d array was expected. Please change the shape of y to (n_samples, ), for example using ravel().\n",
      "  y = column_or_1d(y, warn=True)\n"
     ]
    },
    {
     "name": "stdout",
     "output_type": "stream",
     "text": [
      "*** Causal Estimate ***\n",
      "\n",
      "## Identified estimand\n",
      "Estimand type: nonparametric-ate\n",
      "\n",
      "## Realized estimand\n",
      "b: after_purchase~treatment+buying_date+before_purchase\n",
      "Target units: att\n",
      "\n",
      "## Estimate\n",
      "Mean value: 0.9144660435755866\n",
      "\n"
     ]
    }
   ],
   "source": [
    "estimate = model.estimate_effect(identified_estimand, \n",
    "                                 method_name=\"backdoor1.propensity_score_matching\",\n",
    "                                target_units=\"att\")\n",
    "print(estimate)"
   ]
  },
  {
   "cell_type": "markdown",
   "metadata": {},
   "source": [
    "## IV. Refuting the estimate\n",
    "We refute the estimate using the placebo treatment refuter. This refuter substitutes the treatment by an independent random variable and checks whether our estimate now goes to zero (it should!)."
   ]
  },
  {
   "cell_type": "code",
   "execution_count": 17,
   "metadata": {},
   "outputs": [
    {
     "name": "stderr",
     "output_type": "stream",
     "text": [
      "/Library/Frameworks/Python.framework/Versions/3.8/lib/python3.8/site-packages/sklearn/utils/validation.py:985: DataConversionWarning: A column-vector y was passed when a 1d array was expected. Please change the shape of y to (n_samples, ), for example using ravel().\n",
      "  y = column_or_1d(y, warn=True)\n",
      "/Library/Frameworks/Python.framework/Versions/3.8/lib/python3.8/site-packages/sklearn/utils/validation.py:985: DataConversionWarning: A column-vector y was passed when a 1d array was expected. Please change the shape of y to (n_samples, ), for example using ravel().\n",
      "  y = column_or_1d(y, warn=True)\n"
     ]
    },
    {
     "name": "stdout",
     "output_type": "stream",
     "text": [
      "Refute: Use a Placebo Treatment\n",
      "Estimated effect:0.9144660435755866\n",
      "New effect:0.033379308505617426\n",
      "p value:1.8288191081093808e-09\n",
      "\n"
     ]
    }
   ],
   "source": [
    "refutation = model.refute_estimate(identified_estimand, estimate, method_name=\"placebo_treatment_refuter\",\n",
    "                     placebo_type=\"permute\", num_simulations=2)\n",
    "print(refutation)"
   ]
  },
  {
   "cell_type": "code",
   "execution_count": null,
   "metadata": {},
   "outputs": [],
   "source": []
  },
  {
   "cell_type": "code",
   "execution_count": null,
   "metadata": {},
   "outputs": [],
   "source": []
  }
 ],
 "metadata": {
  "kernelspec": {
   "display_name": "Python 3 (ipykernel)",
   "language": "python",
   "name": "python3"
  },
  "language_info": {
   "codemirror_mode": {
    "name": "ipython",
    "version": 3
   },
   "file_extension": ".py",
   "mimetype": "text/x-python",
   "name": "python",
   "nbconvert_exporter": "python",
   "pygments_lexer": "ipython3",
   "version": "3.8.10"
  },
  "toc": {
   "base_numbering": 1,
   "nav_menu": {},
   "number_sections": false,
   "sideBar": true,
   "skip_h1_title": true,
   "title_cell": "Table of Contents",
   "title_sidebar": "Contents",
   "toc_cell": false,
   "toc_position": {},
   "toc_section_display": true,
   "toc_window_display": false
  }
 },
 "nbformat": 4,
 "nbformat_minor": 4
}
